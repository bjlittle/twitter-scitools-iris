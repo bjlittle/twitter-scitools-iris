{
 "cells": [
  {
   "cell_type": "code",
   "execution_count": null,
   "metadata": {},
   "outputs": [],
   "source": [
    "%matplotlib inline"
   ]
  },
  {
   "cell_type": "code",
   "execution_count": null,
   "metadata": {},
   "outputs": [],
   "source": [
    "import iris\n",
    "from iris.analysis import AreaWeighted\n",
    "from iris.analysis.trajectory import interpolate\n",
    "import numpy as np\n",
    "import timeit\n",
    "import yaml"
   ]
  },
  {
   "cell_type": "code",
   "execution_count": null,
   "metadata": {},
   "outputs": [],
   "source": [
    "fname = \"/home/bill/projects/git/iris-test-data/test_data/NetCDF/global/xyt/SMALL_hires_wind_u_for_ipcc4.nc\""
   ]
  },
  {
   "cell_type": "code",
   "execution_count": null,
   "metadata": {},
   "outputs": [],
   "source": [
    "cube = iris.load_cube(fname)[0]"
   ]
  },
  {
   "cell_type": "code",
   "execution_count": null,
   "metadata": {},
   "outputs": [],
   "source": [
    "cube.shape"
   ]
  },
  {
   "cell_type": "code",
   "execution_count": null,
   "metadata": {},
   "outputs": [],
   "source": [
    "cube"
   ]
  },
  {
   "cell_type": "code",
   "execution_count": null,
   "metadata": {},
   "outputs": [],
   "source": [
    "scheme = AreaWeighted()\n",
    "regridder = scheme.regridder(cube, cube)"
   ]
  },
  {
   "cell_type": "code",
   "execution_count": null,
   "metadata": {},
   "outputs": [],
   "source": [
    "# v2.4.0\n",
    "\n",
    "hi2lo_240 = {'1:1': 1.69, '2:1': 0.245, '3:1': 0.254, '4:1': 0.261, '5:1': 0.266, '10:1': 0.332, '20:1': 0.792}\n",
    "lo2hi_240 = {'1:1': 1.69, '1:2': 3.15,  '1:3': 6.95,  '1:4': 12.6,  '1:5': 19.0,  '1:10': 76.0,  '1:20': 306.0}\n",
    "\n",
    "# v2.3.0\n",
    "\n",
    "hi2lo_230 = {'1:1': 16.4, '2:1': 7.69, '3:1': 7.68, '4:1': 7.87, '5:1': 7.86, '10:1': 7.82, '20:1': 0}\n",
    "lo2hi_230 = {'1:1': 16.4, '1:2': 28.1, '1:3': 62.0, '1:4':109.0, '1:5':170.0, '1:10':671, '1:20':0}"
   ]
  },
  {
   "cell_type": "code",
   "execution_count": null,
   "metadata": {},
   "outputs": [],
   "source": [
    "%%timeit -n 3 -r 3\n",
    "\n",
    "regridder(cube)"
   ]
  },
  {
   "cell_type": "code",
   "execution_count": null,
   "metadata": {},
   "outputs": [],
   "source": [
    "def doit(cube, factor):\n",
    "\n",
    "    print(f'in  = {cube.shape}')\n",
    "    shape = cube.shape\n",
    "    plat = cube.coord('latitude').points\n",
    "    plon = cube.coord('longitude').points\n",
    "    sample_points = [('latitude',  np.linspace(plat[0], plon[-1], shape[0]*factor))]\n",
    "    cube_2_1 = interpolate(cube, sample_points)\n",
    "    sample_points = [('longitude', np.linspace(plon[0], plon[-1], shape[1]*factor))]\n",
    "    cube_2_1 = interpolate(cube_2_1, sample_points)\n",
    "\n",
    "    lat = cube_2_1.coord('latitude')\n",
    "    lat = iris.coords.Coord.from_coord(lat)\n",
    "    lat.bounds = None\n",
    "    lat.guess_bounds()\n",
    "    cube_2_1.remove_coord('latitude')\n",
    "    cube_2_1.add_dim_coord(lat, 0)\n",
    "\n",
    "    lon = cube_2_1.coord('longitude')\n",
    "    lon = iris.coords.Coord.from_coord(lon)\n",
    "    lon.bounds = None\n",
    "    lon.guess_bounds()\n",
    "    cube_2_1.remove_coord('longitude')\n",
    "    cube_2_1.add_dim_coord(lon, 1)\n",
    "\n",
    "    print(f'out = {cube_2_1.shape}')\n",
    "    return cube_2_1"
   ]
  },
  {
   "cell_type": "code",
   "execution_count": null,
   "metadata": {},
   "outputs": [],
   "source": [
    "cube_2 = doit(cube, 2)\n",
    "scheme_2_1 = AreaWeighted()\n",
    "regridder_2_1 = scheme_2_1.regridder(cube_2, cube)\n",
    "scheme_1_2 = AreaWeighted()\n",
    "regridder_1_2 = scheme_1_2.regridder(cube, cube_2)"
   ]
  },
  {
   "cell_type": "code",
   "execution_count": null,
   "metadata": {},
   "outputs": [],
   "source": [
    "%%timeit -n 3 -r 1\n",
    "\n",
    "regridder_2_1(cube_2)"
   ]
  },
  {
   "cell_type": "code",
   "execution_count": null,
   "metadata": {},
   "outputs": [],
   "source": [
    "%%timeit -n 3 -r 1\n",
    "\n",
    "regridder_1_2(cube)"
   ]
  },
  {
   "cell_type": "code",
   "execution_count": null,
   "metadata": {},
   "outputs": [],
   "source": [
    "cube_3 = doit(cube, 3)\n",
    "scheme_3_1 = AreaWeighted()\n",
    "regridder_3_1 = scheme_3_1.regridder(cube_3, cube)\n",
    "scheme_1_3 = AreaWeighted()\n",
    "regridder_1_3 = scheme_1_3.regridder(cube, cube_3)"
   ]
  },
  {
   "cell_type": "code",
   "execution_count": null,
   "metadata": {},
   "outputs": [],
   "source": [
    "%%timeit -n 3 -r 1\n",
    "\n",
    "regridder_3_1(cube_3)"
   ]
  },
  {
   "cell_type": "code",
   "execution_count": null,
   "metadata": {},
   "outputs": [],
   "source": [
    "%%timeit -n 3 -r 1\n",
    "\n",
    "regridder_1_3(cube)"
   ]
  },
  {
   "cell_type": "code",
   "execution_count": null,
   "metadata": {},
   "outputs": [],
   "source": [
    "cube_4 = doit(cube, 4)\n",
    "scheme_4_1 = AreaWeighted()\n",
    "regridder_4_1 = scheme_4_1.regridder(cube_4, cube)\n",
    "scheme_1_4 = AreaWeighted()\n",
    "regridder_1_4 = scheme_1_4.regridder(cube, cube_4)"
   ]
  },
  {
   "cell_type": "code",
   "execution_count": null,
   "metadata": {},
   "outputs": [],
   "source": [
    "%%timeit -n 3 -r 1\n",
    "\n",
    "regridder_4_1(cube_4)"
   ]
  },
  {
   "cell_type": "code",
   "execution_count": null,
   "metadata": {},
   "outputs": [],
   "source": [
    "%%timeit -n 3 -r 1\n",
    "\n",
    "regridder_1_4(cube)"
   ]
  },
  {
   "cell_type": "code",
   "execution_count": null,
   "metadata": {},
   "outputs": [],
   "source": [
    "cube_5 = doit(cube, 5)\n",
    "scheme_5_1 = AreaWeighted()\n",
    "regridder_5_1 = scheme_5_1.regridder(cube_5, cube)\n",
    "scheme_1_5 = AreaWeighted()\n",
    "regridder_1_5 = scheme_1_5.regridder(cube, cube_5)"
   ]
  },
  {
   "cell_type": "code",
   "execution_count": null,
   "metadata": {},
   "outputs": [],
   "source": [
    "%%timeit -n 3 -r 1\n",
    "\n",
    "regridder_5_1(cube_5)"
   ]
  },
  {
   "cell_type": "code",
   "execution_count": null,
   "metadata": {},
   "outputs": [],
   "source": [
    "%%timeit -n 3 -r 1\n",
    "\n",
    "regridder_1_5(cube)"
   ]
  },
  {
   "cell_type": "code",
   "execution_count": null,
   "metadata": {},
   "outputs": [],
   "source": [
    "cube_10 = doit(cube, 10)\n",
    "scheme_10_1 = AreaWeighted()\n",
    "regridder_10_1 = scheme_10_1.regridder(cube_10, cube)\n",
    "scheme_1_10 = AreaWeighted()\n",
    "regridder_1_10 = scheme_1_10.regridder(cube, cube_10)"
   ]
  },
  {
   "cell_type": "code",
   "execution_count": null,
   "metadata": {},
   "outputs": [],
   "source": [
    "%%timeit -n 3 -r 1\n",
    "\n",
    "regridder_10_1(cube_10)"
   ]
  },
  {
   "cell_type": "code",
   "execution_count": null,
   "metadata": {},
   "outputs": [],
   "source": [
    "%%timeit -n 1 -r 1\n",
    "\n",
    "regridder_1_10(cube)"
   ]
  },
  {
   "cell_type": "code",
   "execution_count": null,
   "metadata": {},
   "outputs": [],
   "source": [
    "cube_20 = doit(cube, 20)\n",
    "scheme_20_1 = AreaWeighted()\n",
    "regridder_20_1 = scheme_20_1.regridder(cube_20, cube)\n",
    "scheme_1_20 = AreaWeighted()\n",
    "regridder_1_20 = scheme_1_20.regridder(cube, cube_20)"
   ]
  },
  {
   "cell_type": "code",
   "execution_count": null,
   "metadata": {},
   "outputs": [],
   "source": [
    "%%timeit -n 3 -r 1\n",
    "\n",
    "regridder_20_1(cube_20)"
   ]
  },
  {
   "cell_type": "code",
   "execution_count": null,
   "metadata": {},
   "outputs": [],
   "source": [
    "%%timeit -n 3 -r 1\n",
    "\n",
    "regridder_1_20(cube)"
   ]
  },
  {
   "cell_type": "code",
   "execution_count": null,
   "metadata": {},
   "outputs": [],
   "source": []
  }
 ],
 "metadata": {
  "kernelspec": {
   "display_name": "Python 3",
   "language": "python",
   "name": "python3"
  },
  "language_info": {
   "codemirror_mode": {
    "name": "ipython",
    "version": 3
   },
   "file_extension": ".py",
   "mimetype": "text/x-python",
   "name": "python",
   "nbconvert_exporter": "python",
   "pygments_lexer": "ipython3",
   "version": "3.7.3"
  }
 },
 "nbformat": 4,
 "nbformat_minor": 2
}
